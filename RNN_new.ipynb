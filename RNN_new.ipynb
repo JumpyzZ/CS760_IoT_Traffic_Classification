{
 "cells": [
  {
   "cell_type": "code",
   "execution_count": 5,
   "metadata": {},
   "outputs": [],
   "source": [
    "import pandas as pd\n",
    "import numpy as np\n",
    "import time\n",
    "import matplotlib.pyplot as plt\n",
    "from tensorflow.python.keras.models import Sequential\n",
    "from tensorflow.python.keras.layers import Dense,Dropout,SimpleRNN\n",
    "from preprocess import *"
   ]
  },
  {
   "cell_type": "code",
   "execution_count": 7,
   "metadata": {},
   "outputs": [
    {
     "name": "stdout",
     "output_type": "stream",
     "text": [
      "Starting Preprocessing\n",
      "Label mapping writen to Dataset\\UNSW-NB15 - CSV Files\\a part of training and testing set\\UNSW_NB15_LABEL_MAPPING.csv.\n",
      "(206138, 10)\n",
      "(51535, 10)\n",
      "(206138, 1)\n",
      "(51535, 1)\n"
     ]
    }
   ],
   "source": [
    "X_train, X_test, y_train, y_test = preprocess_UNSW()\n",
    "\n",
    "\n",
    "print(X_train.shape)\n",
    "print(X_test.shape)\n",
    "print(y_train.shape)\n",
    "print(y_test.shape)"
   ]
  },
  {
   "cell_type": "code",
   "execution_count": 8,
   "metadata": {},
   "outputs": [],
   "source": [
    "# Reshape the inputs in the accepted model format\n",
    "sample = X_train.shape[0]\n",
    "features = X_train.shape[1]\n",
    "x_train_ = np.array(X_train).reshape([-1, X_train.shape[1], 1])\n",
    "x_test_ = np.array(X_test).reshape([-1, X_test.shape[1], 1])"
   ]
  },
  {
   "cell_type": "code",
   "execution_count": 9,
   "metadata": {},
   "outputs": [
    {
     "name": "stdout",
     "output_type": "stream",
     "text": [
      "Epoch 1/32\n",
      "1611/1611 [==============================] - 41s 23ms/step - loss: 0.8296 - accuracy: 0.6476\n",
      "Epoch 2/32\n",
      "1611/1611 [==============================] - 38s 24ms/step - loss: 0.6478 - accuracy: 0.6958\n",
      "Epoch 3/32\n",
      "1611/1611 [==============================] - 36s 22ms/step - loss: 0.5997 - accuracy: 0.7057\n",
      "Epoch 4/32\n",
      "1611/1611 [==============================] - 34s 21ms/step - loss: 0.5888 - accuracy: 0.7006\n",
      "Epoch 5/32\n",
      "1611/1611 [==============================] - 34s 21ms/step - loss: 0.5715 - accuracy: 0.7067\n",
      "Epoch 6/32\n",
      "1611/1611 [==============================] - 36s 23ms/step - loss: 0.5572 - accuracy: 0.7134\n",
      "Epoch 7/32\n",
      "1611/1611 [==============================] - 35s 22ms/step - loss: 0.5305 - accuracy: 0.7286\n",
      "Epoch 8/32\n",
      "1611/1611 [==============================] - 34s 21ms/step - loss: 0.5022 - accuracy: 0.7415\n",
      "Epoch 9/32\n",
      "1611/1611 [==============================] - 33s 21ms/step - loss: 0.5211 - accuracy: 0.7240\n",
      "Epoch 10/32\n",
      "1611/1611 [==============================] - 35s 22ms/step - loss: 0.5041 - accuracy: 0.7332\n",
      "Epoch 11/32\n",
      "1611/1611 [==============================] - 33s 20ms/step - loss: 0.4958 - accuracy: 0.7446\n",
      "Epoch 12/32\n",
      "1611/1611 [==============================] - 32s 20ms/step - loss: 0.5036 - accuracy: 0.7351\n",
      "Epoch 13/32\n",
      "1611/1611 [==============================] - 32s 20ms/step - loss: 0.4790 - accuracy: 0.7507\n",
      "Epoch 14/32\n",
      "1611/1611 [==============================] - 33s 20ms/step - loss: 0.4866 - accuracy: 0.7444\n",
      "Epoch 15/32\n",
      "1611/1611 [==============================] - 36s 22ms/step - loss: 0.4789 - accuracy: 0.7506\n",
      "Epoch 16/32\n",
      "1611/1611 [==============================] - 35s 22ms/step - loss: 0.5126 - accuracy: 0.7281\n",
      "Epoch 17/32\n",
      "1611/1611 [==============================] - 34s 21ms/step - loss: 0.5041 - accuracy: 0.7345\n",
      "Epoch 18/32\n",
      "1611/1611 [==============================] - 37s 23ms/step - loss: 0.4773 - accuracy: 0.7541\n",
      "Epoch 19/32\n",
      "1611/1611 [==============================] - 36s 22ms/step - loss: 0.4798 - accuracy: 0.7499\n",
      "Epoch 20/32\n",
      "1611/1611 [==============================] - 34s 21ms/step - loss: 0.4779 - accuracy: 0.7516\n",
      "Epoch 21/32\n",
      "1611/1611 [==============================] - 33s 20ms/step - loss: 0.4776 - accuracy: 0.7554\n",
      "Epoch 22/32\n",
      "1611/1611 [==============================] - 32s 20ms/step - loss: 0.4684 - accuracy: 0.7606\n",
      "Epoch 23/32\n",
      "1611/1611 [==============================] - 34s 21ms/step - loss: 0.4771 - accuracy: 0.7563\n",
      "Epoch 24/32\n",
      "1611/1611 [==============================] - 36s 22ms/step - loss: 0.4678 - accuracy: 0.76100s - loss: 0.4681 - accuracy: 0. - ETA: 0s - loss: 0.4681 - accuracy: 0.76 - ETA: 0s - loss: 0.4681 - ac\n",
      "Epoch 25/32\n",
      "1611/1611 [==============================] - 36s 22ms/step - loss: 0.4822 - accuracy: 0.7477\n",
      "Epoch 26/32\n",
      "1611/1611 [==============================] - 37s 23ms/step - loss: 0.4829 - accuracy: 0.7541\n",
      "Epoch 27/32\n",
      "1611/1611 [==============================] - 36s 22ms/step - loss: 0.4641 - accuracy: 0.7639\n",
      "Epoch 28/32\n",
      "1611/1611 [==============================] - 38s 24ms/step - loss: 0.4846 - accuracy: 0.7465\n",
      "Epoch 29/32\n",
      "1611/1611 [==============================] - 36s 22ms/step - loss: 0.4739 - accuracy: 0.7562\n",
      "Epoch 30/32\n",
      "1611/1611 [==============================] - 33s 21ms/step - loss: 0.4636 - accuracy: 0.7623\n",
      "Epoch 31/32\n",
      "1611/1611 [==============================] - 32s 20ms/step - loss: 0.5206 - accuracy: 0.7299\n",
      "Epoch 32/32\n",
      "1611/1611 [==============================] - 33s 20ms/step - loss: 0.4741 - accuracy: 0.75591s - ETA: 0s - loss:\n"
     ]
    }
   ],
   "source": [
    "\n",
    "# initialize RNN\n",
    "model = Sequential()\n",
    "#  1st RNN layer and Dropout regularization\n",
    "model.add(SimpleRNN(units = 50, activation='relu', return_sequences=True, input_shape= (x_train_.shape[1],1)))\n",
    "model.add(Dropout(0.2))\n",
    " # 2nd RNN layer and Dropout regularization\n",
    "model.add(SimpleRNN(units = 50, activation='relu', return_sequences=True))\n",
    "model.add(Dropout(0.2))\n",
    "# 3rd RNN layer and Dropout regularization\n",
    "model.add(SimpleRNN(units = 50, activation='relu', return_sequences=True))\n",
    "model.add(Dropout(0.2))\n",
    "# 4th RNN layer and Dropout regularization\n",
    "model.add(SimpleRNN(units = 50))\n",
    "model.add(Dropout(0.2))\n",
    "# output layer\n",
    "model.add(Dense(units = 1))\n",
    "# compile the RNN\n",
    "model.compile(loss = 'binary_crossentropy', optimizer = 'adam', metrics=['accuracy'])\n",
    "m = model.fit(x_train_, y_train, epochs=32, batch_size=128,verbose = 1)"
   ]
  },
  {
   "cell_type": "code",
   "execution_count": 10,
   "metadata": {},
   "outputs": [
    {
     "name": "stdout",
     "output_type": "stream",
     "text": [
      "1611/1611 [==============================] - 8s 4ms/step - loss: 0.4643 - accuracy: 0.7617\n",
      "\n",
      "Loss: 0.46, Accuracy: 76.17%\n"
     ]
    },
    {
     "name": "stderr",
     "output_type": "stream",
     "text": [
      "F:\\Anaconda\\lib\\site-packages\\tensorflow\\python\\keras\\engine\\sequential.py:455: UserWarning: `model.predict_classes()` is deprecated and will be removed after 2021-01-01. Please use instead:* `np.argmax(model.predict(x), axis=-1)`,   if your model does multi-class classification   (e.g. if it uses a `softmax` last-layer activation).* `(model.predict(x) > 0.5).astype(\"int32\")`,   if your model does binary classification   (e.g. if it uses a `sigmoid` last-layer activation).\n",
      "  warnings.warn('`model.predict_classes()` is deprecated and '\n"
     ]
    }
   ],
   "source": [
    "loss, accuracy = model.evaluate(x_test_, y_test)\n",
    "print(\"\\nLoss: %.2f, Accuracy: %.2f%%\" % (loss, accuracy*100))\n",
    "y_pred = model.predict_classes(x_test_)"
   ]
  }
 ],
 "metadata": {
  "kernelspec": {
   "display_name": "Python 3 (ipykernel)",
   "language": "python",
   "name": "python3"
  },
  "language_info": {
   "codemirror_mode": {
    "name": "ipython",
    "version": 3
   },
   "file_extension": ".py",
   "mimetype": "text/x-python",
   "name": "python",
   "nbconvert_exporter": "python",
   "pygments_lexer": "ipython3",
   "version": "3.9.12"
  },
  "vscode": {
   "interpreter": {
    "hash": "78f5b707d86fd9281530b9fa2dbdbe1b33232c3b651a8e052360c651d4996094"
   }
  }
 },
 "nbformat": 4,
 "nbformat_minor": 2
}
