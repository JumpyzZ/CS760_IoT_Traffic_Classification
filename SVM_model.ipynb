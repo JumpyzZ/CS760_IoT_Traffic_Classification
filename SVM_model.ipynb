{
 "cells": [
  {
   "cell_type": "code",
   "execution_count": 8,
   "id": "a1604366",
   "metadata": {},
   "outputs": [],
   "source": [
    "import pandas as pd\n",
    "import numpy as np\n",
    "import time\n",
    "import matplotlib.pyplot as plt\n",
    "from sklearn import svm\n",
    "from sklearn.decomposition import PCA\n",
    "from sklearn.model_selection import train_test_split\n"
   ]
  },
  {
   "cell_type": "code",
   "execution_count": 4,
   "id": "d62d6f50",
   "metadata": {},
   "outputs": [],
   "source": [
    "# load dataset and shape\n",
    "\n",
    "dataset = get_UNSW()\n",
    "dataset.shape\n",
    "\n",
    "print(dataset)"
   ]
  },
  {
   "cell_type": "code",
   "execution_count": 3,
   "id": "0212df88",
   "metadata": {},
   "outputs": [],
   "source": [
    "# obtain label\n",
    "train_label = dataset.ix[:,?]\n",
    "# obtain features\n",
    "train_features = dataset.ix[:,?]"
   ]
  },
  {
   "cell_type": "code",
   "execution_count": null,
   "id": "336ad302",
   "metadata": {},
   "outputs": [],
   "source": [
    "# obtain label values\n",
    "train_features = train_features.values\n",
    "# obtain features' values\n",
    "train_label = train_label.values"
   ]
  },
  {
   "cell_type": "code",
   "execution_count": null,
   "id": "affd0217",
   "metadata": {},
   "outputs": [],
   "source": [
    "# split test and train dataset\n",
    "x_train, x_val, y_train, y_val = train_test_split(train_features, train_label, train_size = 0.8, random_state = 100)\n",
    "# output the shape for trainset\n",
    "print(x_train.shape, x_val.shape)"
   ]
  },
  {
   "cell_type": "code",
   "execution_count": null,
   "id": "ef502b57",
   "metadata": {},
   "outputs": [],
   "source": [
    "# process the data via PCA and SVC train\n",
    "def n_analysis(n, x_train, y_train, x_val, y_val):\n",
    "\n",
    "    # record start time\n",
    "    start = time.time()\n",
    "    \n",
    "    # PCA reduce dimensions\n",
    "    pca = PCA(n_components = n)\n",
    "    print(\"features' dimension reduce, passing parameter:{}\".format(n))\n",
    "    pca.fit(x_train)\n",
    "    \n",
    "    # dimension reducation in trainset and testset\n",
    "    x_train_pca = pca.transform(x_train)\n",
    "    x_val_pca = pca.transform(x_val)\n",
    "    \n",
    "    # SVC train\n",
    "    print(\"SVC train begin\")\n",
    "    ss = svm.SVC(C = 1.0, kernel = \"rbf\")\n",
    "    ss.fit(x_train_pca, y_train)\n",
    "\n",
    "    # obtain accurancy result\n",
    "    accuracy = ss.score(x_val, y_val)\n",
    "\n",
    "    # record end time\n",
    "    end = time.time()\n",
    "\n",
    "    # output the result\n",
    "    print(\"Accuracy in test dataset:{ }， Training time：{ }s\".format(accuracy, int(end-start)))\n",
    "    \n",
    "    return accuracy"
   ]
  },
  {
   "cell_type": "code",
   "execution_count": null,
   "id": "76ec0620",
   "metadata": {},
   "outputs": [],
   "source": [
    "# pass different n_components, find the sensible n_components:\n",
    "# make sure the best n_components\n",
    "n_vals = np.linspace(0.70, 0.95, num = 5)\n",
    "accuracy = []\n",
    "\n",
    "for n in n_vals:\n",
    "    temp = n_analysis(n, x_train, y_train, x_val, y_val)\n",
    "    accuracy.append(temp)"
   ]
  },
  {
   "cell_type": "code",
   "execution_count": null,
   "id": "6a60b0c5",
   "metadata": {},
   "outputs": [],
   "source": [
    "# plot the accuracy~n_components\n",
    "# find the best n_component\n",
    "plt.plot(n_vals, np.array(accuracy), \"r\")\n",
    "plt.show()"
   ]
  }
 ],
 "metadata": {
  "kernelspec": {
   "display_name": "Python 3.9.12 ('base')",
   "language": "python",
   "name": "python3"
  },
  "language_info": {
   "codemirror_mode": {
    "name": "ipython",
    "version": 3
   },
   "file_extension": ".py",
   "mimetype": "text/x-python",
   "name": "python",
   "nbconvert_exporter": "python",
   "pygments_lexer": "ipython3",
   "version": "3.9.12"
  },
  "vscode": {
   "interpreter": {
    "hash": "180b88bd853559a05c950f54897fb8cf720434f48c72848182634215ea88ae11"
   }
  }
 },
 "nbformat": 4,
 "nbformat_minor": 5
}
