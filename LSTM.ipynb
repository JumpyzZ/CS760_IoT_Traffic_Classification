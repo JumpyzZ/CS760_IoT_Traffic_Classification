{
 "cells": [
  {
   "cell_type": "code",
   "execution_count": 1,
   "metadata": {},
   "outputs": [],
   "source": [
    "import numpy as np\n",
    "from tensorflow.keras.models import Sequential\n",
    "from tensorflow.keras.layers import Dense, LSTM\n",
    "from preprocess import *"
   ]
  },
  {
   "cell_type": "code",
   "execution_count": 2,
   "metadata": {},
   "outputs": [
    {
     "name": "stdout",
     "output_type": "stream",
     "text": [
      "Starting Preprocessing\n",
      "Label mapping writen to Dataset\\UNSW-NB15 - CSV Files\\a part of training and testing set\\UNSW_NB15_LABEL_MAPPING.csv.\n",
      "(206138, 10)\n",
      "(51535, 10)\n",
      "(206138, 1)\n",
      "(51535, 1)\n"
     ]
    }
   ],
   "source": [
    "X_train, X_test, y_train, y_test = preprocess_UNSW()\n",
    "\n",
    "\n",
    "print(X_train.shape)\n",
    "print(X_test.shape)\n",
    "print(y_train.shape)\n",
    "print(y_test.shape)"
   ]
  },
  {
   "cell_type": "code",
   "execution_count": 9,
   "metadata": {},
   "outputs": [
    {
     "name": "stdout",
     "output_type": "stream",
     "text": [
      "(206138, 10) (206122, 16, 10)\n",
      "(206138, 1) (206122, 1)\n",
      "Epoch 1/32\n",
      "806/806 [==============================] - 11s 8ms/step - loss: 0.6551 - accuracy: 0.6397\n",
      "Epoch 2/32\n",
      "806/806 [==============================] - 7s 8ms/step - loss: 0.6538 - accuracy: 0.6397\n",
      "Epoch 3/32\n",
      "806/806 [==============================] - 7s 8ms/step - loss: 0.6539 - accuracy: 0.6397\n",
      "Epoch 4/32\n",
      "806/806 [==============================] - 8s 10ms/step - loss: 0.6537 - accuracy: 0.6397\n",
      "Epoch 5/32\n",
      "806/806 [==============================] - 7s 9ms/step - loss: 0.6536 - accuracy: 0.6397\n",
      "Epoch 6/32\n",
      "806/806 [==============================] - 7s 9ms/step - loss: 0.6536 - accuracy: 0.6397\n",
      "Epoch 7/32\n",
      "806/806 [==============================] - 8s 10ms/step - loss: 0.6535 - accuracy: 0.6397\n",
      "Epoch 8/32\n",
      "806/806 [==============================] - 8s 9ms/step - loss: 0.6533 - accuracy: 0.6397\n",
      "Epoch 9/32\n",
      "806/806 [==============================] - 7s 9ms/step - loss: 0.6533 - accuracy: 0.6397\n",
      "Epoch 10/32\n",
      "806/806 [==============================] - 8s 10ms/step - loss: 0.6531 - accuracy: 0.6397\n",
      "Epoch 11/32\n",
      "806/806 [==============================] - 8s 9ms/step - loss: 0.6530 - accuracy: 0.6397\n",
      "Epoch 12/32\n",
      "806/806 [==============================] - 8s 10ms/step - loss: 0.6529 - accuracy: 0.6397\n",
      "Epoch 13/32\n",
      "806/806 [==============================] - 8s 10ms/step - loss: 0.6527 - accuracy: 0.6397\n",
      "Epoch 14/32\n",
      "806/806 [==============================] - 8s 9ms/step - loss: 0.6525 - accuracy: 0.6397\n",
      "Epoch 15/32\n",
      "806/806 [==============================] - 8s 10ms/step - loss: 0.6523 - accuracy: 0.6397\n",
      "Epoch 16/32\n",
      "806/806 [==============================] - 10s 12ms/step - loss: 0.6521 - accuracy: 0.6397\n",
      "Epoch 17/32\n",
      "806/806 [==============================] - 8s 10ms/step - loss: 0.6518 - accuracy: 0.6397\n",
      "Epoch 18/32\n",
      "806/806 [==============================] - 9s 11ms/step - loss: 0.6515 - accuracy: 0.6397\n",
      "Epoch 19/32\n",
      "806/806 [==============================] - 8s 10ms/step - loss: 0.6513 - accuracy: 0.6397\n",
      "Epoch 20/32\n",
      "806/806 [==============================] - 10s 13ms/step - loss: 0.6509 - accuracy: 0.6397\n",
      "Epoch 21/32\n",
      "806/806 [==============================] - 10s 13ms/step - loss: 0.6506 - accuracy: 0.6397\n",
      "Epoch 22/32\n",
      "806/806 [==============================] - 11s 14ms/step - loss: 0.6502 - accuracy: 0.6397\n",
      "Epoch 23/32\n",
      "806/806 [==============================] - 13s 16ms/step - loss: 0.6498 - accuracy: 0.6397\n",
      "Epoch 24/32\n",
      "806/806 [==============================] - 9s 12ms/step - loss: 0.6494 - accuracy: 0.6397\n",
      "Epoch 25/32\n",
      "806/806 [==============================] - 11s 14ms/step - loss: 0.6489 - accuracy: 0.6397\n",
      "Epoch 26/32\n",
      "806/806 [==============================] - 12s 15ms/step - loss: 0.6486 - accuracy: 0.6397\n",
      "Epoch 27/32\n",
      "806/806 [==============================] - 12s 15ms/step - loss: 0.6481 - accuracy: 0.6397\n",
      "Epoch 28/32\n",
      "806/806 [==============================] - 9s 11ms/step - loss: 0.6477 - accuracy: 0.6397\n",
      "Epoch 29/32\n",
      "806/806 [==============================] - 10s 13ms/step - loss: 0.6472 - accuracy: 0.6397\n",
      "Epoch 30/32\n",
      "806/806 [==============================] - 10s 12ms/step - loss: 0.6466 - accuracy: 0.6397\n",
      "Epoch 31/32\n",
      "806/806 [==============================] - 11s 14ms/step - loss: 0.6462 - accuracy: 0.6397\n",
      "Epoch 32/32\n",
      "806/806 [==============================] - 10s 12ms/step - loss: 0.6458 - accuracy: 0.6397\n"
     ]
    },
    {
     "data": {
      "text/plain": [
       "<keras.callbacks.History at 0x2658237d0a0>"
      ]
     },
     "execution_count": 9,
     "metadata": {},
     "output_type": "execute_result"
    }
   ],
   "source": [
    "# units = 8 meaning: https://tung2389.github.io/coding-note/unitslstm\n",
    "EPOCHS = 32\n",
    "BATCH_SIZE = 256\n",
    "TIME_STEPS = 16\n",
    "UNITS = 32\n",
    "\n",
    "X_train_ = np.lib.stride_tricks.sliding_window_view(X_train, (TIME_STEPS,X_train.shape[1]))\n",
    "X_train_ = X_train_.reshape(X_train_.shape[0], X_train_.shape[2], X_train_.shape[3])\n",
    "X_train_ = X_train_[0:-1,:]\n",
    "\n",
    "y_train_ = np.array(y_train)[TIME_STEPS:,:]\n",
    "\n",
    "\n",
    "print(X_train.shape, X_train_.shape)\n",
    "print(y_train.shape, y_train_.shape)\n",
    "\n",
    "model = Sequential()\n",
    "model.add(LSTM(units = UNITS, input_shape = (TIME_STEPS, X_train.shape[1])))\n",
    "model.add(Dense(1, activation = 'softmax'))\n",
    "model.compile(loss = 'binary_crossentropy', optimizer = 'adam', metrics=['accuracy'])\n",
    "model.fit(X_train_, y_train_, epochs = EPOCHS, batch_size = BATCH_SIZE, verbose = 1)"
   ]
  },
  {
   "cell_type": "code",
   "execution_count": 10,
   "metadata": {},
   "outputs": [
    {
     "name": "stdout",
     "output_type": "stream",
     "text": [
      "(51535, 10) (51519, 16, 10)\n",
      "(51535, 1) (51519, 1)\n",
      "202/202 - 4s - loss: 0.6629 - accuracy: 0.6368 - 4s/epoch - 20ms/step\n"
     ]
    }
   ],
   "source": [
    "X_test_ = np.lib.stride_tricks.sliding_window_view(X_test, (TIME_STEPS,X_test.shape[1]))\n",
    "X_test_ = X_test_.reshape(X_test_.shape[0], X_test_.shape[2], X_test_.shape[3])\n",
    "X_test_ = X_test_[0:-1,:]\n",
    "\n",
    "y_test_ = np.array(y_test)[TIME_STEPS:,:]\n",
    "\n",
    "\n",
    "print(X_test.shape, X_test_.shape)\n",
    "print(y_test.shape, y_test_.shape)\n",
    "\n",
    "'''\n",
    "Todo:\n",
    "get model metrics\n",
    "'''\n",
    "loss, acc = model.evaluate(X_test_, y_test_, batch_size = BATCH_SIZE, verbose=2)"
   ]
  },
  {
   "cell_type": "code",
   "execution_count": null,
   "metadata": {},
   "outputs": [],
   "source": []
  }
 ],
 "metadata": {
  "kernelspec": {
   "display_name": "Python 3 (ipykernel)",
   "language": "python",
   "name": "python3"
  },
  "language_info": {
   "codemirror_mode": {
    "name": "ipython",
    "version": 3
   },
   "file_extension": ".py",
   "mimetype": "text/x-python",
   "name": "python",
   "nbconvert_exporter": "python",
   "pygments_lexer": "ipython3",
   "version": "3.9.7"
  },
  "vscode": {
   "interpreter": {
    "hash": "d5dd9b0e9bfd6a036ef72cdb8dec505c86e0f8d198b4588cea66ef5600dc1222"
   }
  }
 },
 "nbformat": 4,
 "nbformat_minor": 2
}
