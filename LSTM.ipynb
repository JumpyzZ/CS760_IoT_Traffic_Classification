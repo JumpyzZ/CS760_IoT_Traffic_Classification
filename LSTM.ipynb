{
 "cells": [
  {
   "cell_type": "code",
   "execution_count": 1,
   "metadata": {},
   "outputs": [],
   "source": [
    "import numpy as np\n",
    "from tensorflow.keras.models import Sequential\n",
    "from tensorflow.keras.layers import Dense, LSTM\n",
    "from preprocess import *"
   ]
  },
  {
   "cell_type": "code",
   "execution_count": 2,
   "metadata": {},
   "outputs": [
    {
     "name": "stdout",
     "output_type": "stream",
     "text": [
      "Starting Preprocessing\n",
      "Label mapping writen to Dataset/UNSW-NB15 - CSV Files/a part of training and testing set/UNSW_NB15_LABEL_MAPPING.csv.\n",
      "(206138, 4)\n",
      "(51535, 4)\n",
      "(206138, 1)\n",
      "(51535, 1)\n"
     ]
    }
   ],
   "source": [
    "X_train, X_test, y_train, y_test = preprocess_UNSW()\n",
    "\n",
    "\n",
    "print(X_train.shape)\n",
    "print(X_test.shape)\n",
    "print(y_train.shape)\n",
    "print(y_test.shape)"
   ]
  },
  {
   "cell_type": "code",
   "execution_count": 15,
   "metadata": {},
   "outputs": [
    {
     "name": "stdout",
     "output_type": "stream",
     "text": [
      "(206138, 4) (206122, 16, 4)\n",
      "(206138, 1) (206122, 1)\n",
      "Epoch 1/32\n",
      "806/806 [==============================] - 10s 10ms/step - loss: 0.6549 - accuracy: 0.6394\n",
      "Epoch 2/32\n",
      "806/806 [==============================] - 8s 9ms/step - loss: 0.6540 - accuracy: 0.6394\n",
      "Epoch 3/32\n",
      "806/806 [==============================] - 7s 9ms/step - loss: 0.6539 - accuracy: 0.6394\n",
      "Epoch 4/32\n",
      "806/806 [==============================] - 8s 10ms/step - loss: 0.6539 - accuracy: 0.6394\n",
      "Epoch 5/32\n",
      "806/806 [==============================] - 8s 10ms/step - loss: 0.6538 - accuracy: 0.6394\n",
      "Epoch 6/32\n",
      "806/806 [==============================] - 8s 10ms/step - loss: 0.6538 - accuracy: 0.6394\n",
      "Epoch 7/32\n",
      "806/806 [==============================] - 8s 10ms/step - loss: 0.6538 - accuracy: 0.6394\n",
      "Epoch 8/32\n",
      "806/806 [==============================] - 7s 9ms/step - loss: 0.6538 - accuracy: 0.6394\n",
      "Epoch 9/32\n",
      "806/806 [==============================] - 7s 9ms/step - loss: 0.6537 - accuracy: 0.6394\n",
      "Epoch 10/32\n",
      "806/806 [==============================] - 8s 10ms/step - loss: 0.6537 - accuracy: 0.6394\n",
      "Epoch 11/32\n",
      "806/806 [==============================] - 8s 11ms/step - loss: 0.6537 - accuracy: 0.6394\n",
      "Epoch 12/32\n",
      "806/806 [==============================] - 8s 10ms/step - loss: 0.6537 - accuracy: 0.6394\n",
      "Epoch 13/32\n",
      "806/806 [==============================] - 8s 10ms/step - loss: 0.6537 - accuracy: 0.6394\n",
      "Epoch 14/32\n",
      "806/806 [==============================] - 8s 10ms/step - loss: 0.6536 - accuracy: 0.6394\n",
      "Epoch 15/32\n",
      "806/806 [==============================] - 8s 10ms/step - loss: 0.6536 - accuracy: 0.6394\n",
      "Epoch 16/32\n",
      "806/806 [==============================] - 8s 10ms/step - loss: 0.6536 - accuracy: 0.6394\n",
      "Epoch 17/32\n",
      "806/806 [==============================] - 8s 9ms/step - loss: 0.6535 - accuracy: 0.6394\n",
      "Epoch 18/32\n",
      "806/806 [==============================] - 7s 9ms/step - loss: 0.6534 - accuracy: 0.6394\n",
      "Epoch 19/32\n",
      "806/806 [==============================] - 11s 14ms/step - loss: 0.6534 - accuracy: 0.6394\n",
      "Epoch 20/32\n",
      "806/806 [==============================] - 9s 11ms/step - loss: 0.6533 - accuracy: 0.6394\n",
      "Epoch 21/32\n",
      "806/806 [==============================] - 8s 9ms/step - loss: 0.6532 - accuracy: 0.6394\n",
      "Epoch 22/32\n",
      "806/806 [==============================] - 8s 10ms/step - loss: 0.6531 - accuracy: 0.6394\n",
      "Epoch 23/32\n",
      "806/806 [==============================] - 8s 10ms/step - loss: 0.6530 - accuracy: 0.6394\n",
      "Epoch 24/32\n",
      "806/806 [==============================] - 8s 10ms/step - loss: 0.6530 - accuracy: 0.6394\n",
      "Epoch 25/32\n",
      "806/806 [==============================] - 8s 10ms/step - loss: 0.6528 - accuracy: 0.6394\n",
      "Epoch 26/32\n",
      "806/806 [==============================] - 8s 10ms/step - loss: 0.6528 - accuracy: 0.6394\n",
      "Epoch 27/32\n",
      "806/806 [==============================] - 8s 10ms/step - loss: 0.6526 - accuracy: 0.6394\n",
      "Epoch 28/32\n",
      "806/806 [==============================] - 9s 11ms/step - loss: 0.6524 - accuracy: 0.6394\n",
      "Epoch 29/32\n",
      "806/806 [==============================] - 7s 9ms/step - loss: 0.6523 - accuracy: 0.6394\n",
      "Epoch 30/32\n",
      "806/806 [==============================] - 8s 10ms/step - loss: 0.6521 - accuracy: 0.6394\n",
      "Epoch 31/32\n",
      "806/806 [==============================] - 7s 9ms/step - loss: 0.6520 - accuracy: 0.6394\n",
      "Epoch 32/32\n",
      "806/806 [==============================] - 8s 10ms/step - loss: 0.6518 - accuracy: 0.6394\n"
     ]
    },
    {
     "data": {
      "text/plain": [
       "<keras.callbacks.History at 0x7fe5e1ee1e50>"
      ]
     },
     "execution_count": 15,
     "metadata": {},
     "output_type": "execute_result"
    }
   ],
   "source": [
    "# units = 8 meaning: https://tung2389.github.io/coding-note/unitslstm\n",
    "EPOCHS = 32\n",
    "BATCH_SIZE = 256\n",
    "TIME_STEPS = 16\n",
    "UNITS = 32\n",
    "\n",
    "X_train_ = np.lib.stride_tricks.sliding_window_view(X_train, (TIME_STEPS,X_train.shape[1]))\n",
    "X_train_ = X_train_.reshape(X_train_.shape[0], X_train_.shape[2], X_train_.shape[3])\n",
    "X_train_ = X_train_[0:-1,:]\n",
    "\n",
    "y_train_ = np.array(y_train)[TIME_STEPS:,:]\n",
    "\n",
    "\n",
    "print(X_train.shape, X_train_.shape)\n",
    "print(y_train.shape, y_train_.shape)\n",
    "\n",
    "model = Sequential()\n",
    "model.add(LSTM(units = UNITS, input_shape = (TIME_STEPS, X_train.shape[1])))\n",
    "model.add(Dense(1, activation = 'softmax'))\n",
    "model.compile(loss = 'binary_crossentropy', optimizer = 'adam', metrics=['accuracy'])\n",
    "model.fit(X_train_, y_train_, epochs = EPOCHS, batch_size = BATCH_SIZE, verbose = 1)"
   ]
  },
  {
   "cell_type": "code",
   "execution_count": 18,
   "metadata": {},
   "outputs": [
    {
     "name": "stdout",
     "output_type": "stream",
     "text": [
      "(51535, 4) (51519, 1, 16, 4)\n",
      "(51535, 1) (51519, 1)\n"
     ]
    },
    {
     "ename": "ValueError",
     "evalue": "in user code:\n\n    File \"/Users/zhu/opt/anaconda3/lib/python3.8/site-packages/keras/engine/training.py\", line 1727, in test_function  *\n        return step_function(self, iterator)\n    File \"/Users/zhu/opt/anaconda3/lib/python3.8/site-packages/keras/engine/training.py\", line 1713, in step_function  **\n        outputs = model.distribute_strategy.run(run_step, args=(data,))\n    File \"/Users/zhu/opt/anaconda3/lib/python3.8/site-packages/keras/engine/training.py\", line 1701, in run_step  **\n        outputs = model.test_step(data)\n    File \"/Users/zhu/opt/anaconda3/lib/python3.8/site-packages/keras/engine/training.py\", line 1665, in test_step\n        y_pred = self(x, training=False)\n    File \"/Users/zhu/opt/anaconda3/lib/python3.8/site-packages/keras/utils/traceback_utils.py\", line 70, in error_handler\n        raise e.with_traceback(filtered_tb) from None\n    File \"/Users/zhu/opt/anaconda3/lib/python3.8/site-packages/keras/engine/input_spec.py\", line 295, in assert_input_compatibility\n        raise ValueError(\n\n    ValueError: Input 0 of layer \"sequential_11\" is incompatible with the layer: expected shape=(None, 16, 4), found shape=(None, 1, 16, 4)\n",
     "output_type": "error",
     "traceback": [
      "\u001b[0;31m---------------------------------------------------------------------------\u001b[0m",
      "\u001b[0;31mValueError\u001b[0m                                Traceback (most recent call last)",
      "\u001b[0;32m<ipython-input-18-d181f29cd3a1>\u001b[0m in \u001b[0;36m<module>\u001b[0;34m\u001b[0m\n\u001b[1;32m     10\u001b[0m \u001b[0;34m\u001b[0m\u001b[0m\n\u001b[1;32m     11\u001b[0m \u001b[0;34m\u001b[0m\u001b[0m\n\u001b[0;32m---> 12\u001b[0;31m \u001b[0mloss\u001b[0m\u001b[0;34m,\u001b[0m \u001b[0macc\u001b[0m \u001b[0;34m=\u001b[0m \u001b[0mmodel\u001b[0m\u001b[0;34m.\u001b[0m\u001b[0mevaluate\u001b[0m\u001b[0;34m(\u001b[0m\u001b[0mX_test_\u001b[0m\u001b[0;34m,\u001b[0m \u001b[0my_test_\u001b[0m\u001b[0;34m,\u001b[0m \u001b[0mbatch_size\u001b[0m \u001b[0;34m=\u001b[0m \u001b[0mBATCH_SIZE\u001b[0m\u001b[0;34m,\u001b[0m \u001b[0mverbose\u001b[0m\u001b[0;34m=\u001b[0m\u001b[0;36m2\u001b[0m\u001b[0;34m)\u001b[0m\u001b[0;34m\u001b[0m\u001b[0;34m\u001b[0m\u001b[0m\n\u001b[0m",
      "\u001b[0;32m~/opt/anaconda3/lib/python3.8/site-packages/keras/utils/traceback_utils.py\u001b[0m in \u001b[0;36merror_handler\u001b[0;34m(*args, **kwargs)\u001b[0m\n\u001b[1;32m     68\u001b[0m             \u001b[0;31m# To get the full stack trace, call:\u001b[0m\u001b[0;34m\u001b[0m\u001b[0;34m\u001b[0m\u001b[0;34m\u001b[0m\u001b[0m\n\u001b[1;32m     69\u001b[0m             \u001b[0;31m# `tf.debugging.disable_traceback_filtering()`\u001b[0m\u001b[0;34m\u001b[0m\u001b[0;34m\u001b[0m\u001b[0;34m\u001b[0m\u001b[0m\n\u001b[0;32m---> 70\u001b[0;31m             \u001b[0;32mraise\u001b[0m \u001b[0me\u001b[0m\u001b[0;34m.\u001b[0m\u001b[0mwith_traceback\u001b[0m\u001b[0;34m(\u001b[0m\u001b[0mfiltered_tb\u001b[0m\u001b[0;34m)\u001b[0m \u001b[0;32mfrom\u001b[0m \u001b[0;32mNone\u001b[0m\u001b[0;34m\u001b[0m\u001b[0;34m\u001b[0m\u001b[0m\n\u001b[0m\u001b[1;32m     71\u001b[0m         \u001b[0;32mfinally\u001b[0m\u001b[0;34m:\u001b[0m\u001b[0;34m\u001b[0m\u001b[0;34m\u001b[0m\u001b[0m\n\u001b[1;32m     72\u001b[0m             \u001b[0;32mdel\u001b[0m \u001b[0mfiltered_tb\u001b[0m\u001b[0;34m\u001b[0m\u001b[0;34m\u001b[0m\u001b[0m\n",
      "\u001b[0;32m~/opt/anaconda3/lib/python3.8/site-packages/keras/engine/training.py\u001b[0m in \u001b[0;36mtf__test_function\u001b[0;34m(iterator)\u001b[0m\n\u001b[1;32m     13\u001b[0m                 \u001b[0;32mtry\u001b[0m\u001b[0;34m:\u001b[0m\u001b[0;34m\u001b[0m\u001b[0;34m\u001b[0m\u001b[0m\n\u001b[1;32m     14\u001b[0m                     \u001b[0mdo_return\u001b[0m \u001b[0;34m=\u001b[0m \u001b[0;32mTrue\u001b[0m\u001b[0;34m\u001b[0m\u001b[0;34m\u001b[0m\u001b[0m\n\u001b[0;32m---> 15\u001b[0;31m                     \u001b[0mretval_\u001b[0m \u001b[0;34m=\u001b[0m \u001b[0mag__\u001b[0m\u001b[0;34m.\u001b[0m\u001b[0mconverted_call\u001b[0m\u001b[0;34m(\u001b[0m\u001b[0mag__\u001b[0m\u001b[0;34m.\u001b[0m\u001b[0mld\u001b[0m\u001b[0;34m(\u001b[0m\u001b[0mstep_function\u001b[0m\u001b[0;34m)\u001b[0m\u001b[0;34m,\u001b[0m \u001b[0;34m(\u001b[0m\u001b[0mag__\u001b[0m\u001b[0;34m.\u001b[0m\u001b[0mld\u001b[0m\u001b[0;34m(\u001b[0m\u001b[0mself\u001b[0m\u001b[0;34m)\u001b[0m\u001b[0;34m,\u001b[0m \u001b[0mag__\u001b[0m\u001b[0;34m.\u001b[0m\u001b[0mld\u001b[0m\u001b[0;34m(\u001b[0m\u001b[0miterator\u001b[0m\u001b[0;34m)\u001b[0m\u001b[0;34m)\u001b[0m\u001b[0;34m,\u001b[0m \u001b[0;32mNone\u001b[0m\u001b[0;34m,\u001b[0m \u001b[0mfscope\u001b[0m\u001b[0;34m)\u001b[0m\u001b[0;34m\u001b[0m\u001b[0;34m\u001b[0m\u001b[0m\n\u001b[0m\u001b[1;32m     16\u001b[0m                 \u001b[0;32mexcept\u001b[0m\u001b[0;34m:\u001b[0m\u001b[0;34m\u001b[0m\u001b[0;34m\u001b[0m\u001b[0m\n\u001b[1;32m     17\u001b[0m                     \u001b[0mdo_return\u001b[0m \u001b[0;34m=\u001b[0m \u001b[0;32mFalse\u001b[0m\u001b[0;34m\u001b[0m\u001b[0;34m\u001b[0m\u001b[0m\n",
      "\u001b[0;31mValueError\u001b[0m: in user code:\n\n    File \"/Users/zhu/opt/anaconda3/lib/python3.8/site-packages/keras/engine/training.py\", line 1727, in test_function  *\n        return step_function(self, iterator)\n    File \"/Users/zhu/opt/anaconda3/lib/python3.8/site-packages/keras/engine/training.py\", line 1713, in step_function  **\n        outputs = model.distribute_strategy.run(run_step, args=(data,))\n    File \"/Users/zhu/opt/anaconda3/lib/python3.8/site-packages/keras/engine/training.py\", line 1701, in run_step  **\n        outputs = model.test_step(data)\n    File \"/Users/zhu/opt/anaconda3/lib/python3.8/site-packages/keras/engine/training.py\", line 1665, in test_step\n        y_pred = self(x, training=False)\n    File \"/Users/zhu/opt/anaconda3/lib/python3.8/site-packages/keras/utils/traceback_utils.py\", line 70, in error_handler\n        raise e.with_traceback(filtered_tb) from None\n    File \"/Users/zhu/opt/anaconda3/lib/python3.8/site-packages/keras/engine/input_spec.py\", line 295, in assert_input_compatibility\n        raise ValueError(\n\n    ValueError: Input 0 of layer \"sequential_11\" is incompatible with the layer: expected shape=(None, 16, 4), found shape=(None, 1, 16, 4)\n"
     ]
    }
   ],
   "source": [
    "X_test_ = np.lib.stride_tricks.sliding_window_view(X_test, (TIME_STEPS,X_test.shape[1]))\n",
    "X_train_ = X_test_.reshape(X_test_.shape[0], X_test_.shape[2], X_test_.shape[3])\n",
    "X_test_ = X_test_[0:-1,:]\n",
    "\n",
    "y_test_ = np.array(y_test)[TIME_STEPS:,:]\n",
    "\n",
    "\n",
    "print(X_test.shape, X_test_.shape)\n",
    "print(y_test.shape, y_test_.shape)\n",
    "\n",
    "'''\n",
    "Todo:\n",
    "get model matrics\n",
    "'''\n",
    "#loss, acc = model.evaluate(X_test_, y_test_, batch_size = BATCH_SIZE, verbose=2)"
   ]
  }
 ],
 "metadata": {
  "kernelspec": {
   "display_name": "Python 3",
   "language": "python",
   "name": "python3"
  },
  "language_info": {
   "codemirror_mode": {
    "name": "ipython",
    "version": 3
   },
   "file_extension": ".py",
   "mimetype": "text/x-python",
   "name": "python",
   "nbconvert_exporter": "python",
   "pygments_lexer": "ipython3",
   "version": "3.8.5"
  },
  "vscode": {
   "interpreter": {
    "hash": "d5dd9b0e9bfd6a036ef72cdb8dec505c86e0f8d198b4588cea66ef5600dc1222"
   }
  }
 },
 "nbformat": 4,
 "nbformat_minor": 2
}
